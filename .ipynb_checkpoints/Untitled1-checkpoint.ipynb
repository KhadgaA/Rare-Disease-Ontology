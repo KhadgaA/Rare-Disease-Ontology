{
 "cells": [
  {
   "cell_type": "code",
   "execution_count": 1,
   "id": "f98f5005-cc67-4221-aee2-c570c6d3b64e",
   "metadata": {},
   "outputs": [],
   "source": [
    "from owlready2 import *"
   ]
  },
  {
   "cell_type": "code",
   "execution_count": 4,
   "id": "e3f2ca95-0895-4bff-a761-1152a8d70e1c",
   "metadata": {},
   "outputs": [],
   "source": [
    "onto = get_ontology('bacteria.owl').load(reload=True)"
   ]
  },
  {
   "cell_type": "code",
   "execution_count": 5,
   "id": "7c176ba6-7ff6-4a50-9797-880077295cef",
   "metadata": {},
   "outputs": [
    {
     "data": {
      "text/plain": [
       "'http://www.semanticweb.org/khadgaa/ontologies/2023/0/bacteria#'"
      ]
     },
     "execution_count": 5,
     "metadata": {},
     "output_type": "execute_result"
    }
   ],
   "source": [
    "onto.base_iri"
   ]
  },
  {
   "cell_type": "code",
   "execution_count": 6,
   "id": "cd3ad851-6b2b-4d08-8527-03bad7f28d42",
   "metadata": {},
   "outputs": [
    {
     "data": {
      "text/plain": [
       "[]"
      ]
     },
     "execution_count": 6,
     "metadata": {},
     "output_type": "execute_result"
    }
   ],
   "source": [
    "onto.imported_ontologies"
   ]
  },
  {
   "cell_type": "code",
   "execution_count": 7,
   "id": "92043b39-18fb-4635-8df7-2e9843a1fae9",
   "metadata": {},
   "outputs": [
    {
     "data": {
      "text/plain": [
       "([bacteria.in_cluster1, bacteria.round1, bacteria.unknown_bacterium],\n",
       " [bacteria.Bacterium,\n",
       "  bacteria.Grouping,\n",
       "  bacteria.Shape,\n",
       "  bacteria.Bacillus,\n",
       "  bacteria.Rod,\n",
       "  bacteria.Coccus,\n",
       "  bacteria.Round,\n",
       "  bacteria.InChain,\n",
       "  bacteria.InCluster,\n",
       "  bacteria.InPair,\n",
       "  bacteria.Isolated,\n",
       "  bacteria.InLongChain,\n",
       "  bacteria.InSmallChain,\n",
       "  bacteria.Pseudomonas,\n",
       "  bacteria.Staphylococcus,\n",
       "  bacteria.Streptococcus])"
      ]
     },
     "execution_count": 7,
     "metadata": {},
     "output_type": "execute_result"
    }
   ],
   "source": [
    "list(onto.individuals()),list(onto.classes())"
   ]
  },
  {
   "cell_type": "code",
   "execution_count": 8,
   "id": "af224027-43d0-46cd-ae99-0b6f6ae3aa25",
   "metadata": {},
   "outputs": [
    {
     "data": {
      "text/plain": [
       "'http://www.semanticweb.org/khadgaa/ontologies/2023/0/bacteria#unknown_bacterium'"
      ]
     },
     "execution_count": 8,
     "metadata": {},
     "output_type": "execute_result"
    }
   ],
   "source": [
    "onto['unknown_bacterium'].iri"
   ]
  },
  {
   "cell_type": "code",
   "execution_count": 9,
   "id": "f52edc5b-3248-4874-a2d2-873b2bb667e1",
   "metadata": {},
   "outputs": [
    {
     "data": {
      "text/plain": [
       "([bacteria.Bacterium],\n",
       " True,\n",
       " [bacteria.unknown_bacterium],\n",
       " [bacteria.in_cluster1])"
      ]
     },
     "execution_count": 9,
     "metadata": {},
     "output_type": "execute_result"
    }
   ],
   "source": [
    "onto.unknown_bacterium.is_a,onto.unknown_bacterium.gram_positive,onto.in_cluster1.is_grouping_of,onto.unknown_bacterium.INDIRECT_has_grouping"
   ]
  },
  {
   "cell_type": "code",
   "execution_count": 10,
   "id": "fe829170-f19b-48e7-93cb-ac0709dcbc0c",
   "metadata": {},
   "outputs": [
    {
     "data": {
      "text/plain": [
       "([bacteria.nb_colonies,\n",
       "  bacteria.gram_positive,\n",
       "  bacteria.has_grouping,\n",
       "  bacteria.has_shape],\n",
       " [(bacteria.unknown_bacterium, bacteria.has_shape)])"
      ]
     },
     "execution_count": 10,
     "metadata": {},
     "output_type": "execute_result"
    }
   ],
   "source": [
    "list(onto.unknown_bacterium.get_properties()),list(onto.round1.get_inverse_properties()),"
   ]
  },
  {
   "cell_type": "code",
   "execution_count": 11,
   "id": "2a56fed9-43bf-4a88-9669-37ea7374408f",
   "metadata": {},
   "outputs": [
    {
     "data": {
      "text/plain": [
       "True"
      ]
     },
     "execution_count": 11,
     "metadata": {},
     "output_type": "execute_result"
    }
   ],
   "source": [
    "issubclass(onto.Coccus,onto.Bacterium)"
   ]
  },
  {
   "cell_type": "code",
   "execution_count": 12,
   "id": "9acbd4ab-f33f-48e2-a199-0d900a73f89c",
   "metadata": {},
   "outputs": [
    {
     "data": {
      "text/plain": [
       "([bacteria.Bacterium],\n",
       " [bacteria.Grouping],\n",
       " ['http://www.semanticweb.org/khadgaa/ontologies/2023/0/bacteria#Grouping'])"
      ]
     },
     "execution_count": 12,
     "metadata": {},
     "output_type": "execute_result"
    }
   ],
   "source": [
    "onto.has_grouping.domain,onto.has_grouping.range,onto.has_grouping.range_iri"
   ]
  },
  {
   "cell_type": "code",
   "execution_count": 13,
   "id": "3e50e13a-f98d-44be-ada3-90aaaed784d0",
   "metadata": {},
   "outputs": [
    {
     "name": "stdout",
     "output_type": "stream",
     "text": [
      "bacteria.unknown_bacterium, has  grouping bacteria.in_cluster1\n"
     ]
    }
   ],
   "source": [
    "for subject,object in onto.has_grouping.get_relations(): print(f'{subject}, has  grouping {object}')"
   ]
  },
  {
   "cell_type": "code",
   "execution_count": 14,
   "id": "8825fa61-ff39-401a-85e8-bd224439e8c8",
   "metadata": {},
   "outputs": [
    {
     "name": "stdout",
     "output_type": "stream",
     "text": [
      "bacteria.unknown_bacterium, has shape bacteria.round1\n"
     ]
    }
   ],
   "source": [
    "for subject,object in onto.has_shape.get_relations(): print(f'{subject}, has shape {object}')"
   ]
  },
  {
   "cell_type": "code",
   "execution_count": 15,
   "id": "0e1bbc6a-a612-4dbf-8114-7f7bebe650cf",
   "metadata": {},
   "outputs": [
    {
     "data": {
      "text/plain": [
       "[True]"
      ]
     },
     "execution_count": 15,
     "metadata": {},
     "output_type": "execute_result"
    }
   ],
   "source": [
    "onto.gram_positive[onto.unknown_bacterium]"
   ]
  },
  {
   "cell_type": "code",
   "execution_count": 16,
   "id": "7eb62e68-82c8-464c-8fed-2f3eb767d45b",
   "metadata": {},
   "outputs": [
    {
     "data": {
      "text/plain": [
       "[True]"
      ]
     },
     "execution_count": 16,
     "metadata": {},
     "output_type": "execute_result"
    }
   ],
   "source": [
    "onto['gram_positive'][onto['unknown_bacterium']]"
   ]
  },
  {
   "cell_type": "code",
   "execution_count": 17,
   "id": "289262db-1bda-4fe5-b59b-87c2162bd829",
   "metadata": {},
   "outputs": [
    {
     "data": {
      "text/plain": [
       "[bacteria.Coccus, bacteria.Staphylococcus, bacteria.Streptococcus]"
      ]
     },
     "execution_count": 17,
     "metadata": {},
     "output_type": "execute_result"
    }
   ],
   "source": [
    "onto.search(iri = '*Coccus*',_case_sensitive=False,subclass_of = onto.Bacterium)"
   ]
  },
  {
   "cell_type": "code",
   "execution_count": 18,
   "id": "301cd17e-fd80-487b-b414-dabbc35c6b3c",
   "metadata": {},
   "outputs": [
    {
     "data": {
      "text/plain": [
       "([bacteria.unknown_bacterium], [])"
      ]
     },
     "execution_count": 18,
     "metadata": {},
     "output_type": "execute_result"
    }
   ],
   "source": [
    "onto.search(type = onto.Bacterium,gram_positive = '*'),onto.search(type = onto.Bacterium,has_shape=None)"
   ]
  },
  {
   "cell_type": "code",
   "execution_count": 19,
   "id": "ef0be09e-0f0d-42b7-ac47-189441fae805",
   "metadata": {},
   "outputs": [
    {
     "data": {
      "text/plain": [
       "[bacteria.Coccus]"
      ]
     },
     "execution_count": 19,
     "metadata": {},
     "output_type": "execute_result"
    }
   ],
   "source": [
    "default_world.search(iri = '*Coccus')#search all loaded ontologies"
   ]
  },
  {
   "cell_type": "code",
   "execution_count": 18,
   "id": "068ffd0e-6b1e-414b-b027-f63804dc7570",
   "metadata": {},
   "outputs": [
    {
     "data": {
      "text/plain": [
       "[bacteria.unknown_bacterium]"
      ]
     },
     "execution_count": 18,
     "metadata": {},
     "output_type": "execute_result"
    }
   ],
   "source": [
    "default_world.search(iri ='*',has_shape = onto.search(type = onto.Round))"
   ]
  },
  {
   "cell_type": "code",
   "execution_count": 21,
   "id": "660cd5b2-32d0-466d-a68d-7c5329f32081",
   "metadata": {},
   "outputs": [],
   "source": [
    "#saving\n",
    "# default_world.set_backend(filename = 'quadstore.sqlite3')\n",
    "# go = get_ontology('bacteria.owl').load()\n",
    "# go,onto\n",
    "# default_world.save()\n",
    "# del go \n",
    "\n",
    "# #loading only happens when nothing is loaded by owlready, so at start\n",
    "# default_world.set_backend(filename = 'quadstore.sqlite3')\n",
    "# go = get_ontology('bacteria.owl').load()\n",
    "# go"
   ]
  },
  {
   "cell_type": "markdown",
   "id": "1cc44270-66f6-40f7-b08b-ed3df02c70f4",
   "metadata": {},
   "source": [
    "``` python\n",
    "# modifying entity as rendering as text\n",
    "# see tb 4.8, 4.9\n",
    "def my_rendering(entity):\n",
    "    return entity.label.first() or entity.name\n",
    "# >>>before obo.GO_0035065 -> obo.GO_0035065\n",
    "set_render_func(my_rendering)\n",
    "#>>>after obo.GO_0035065 -> regulation of histone acetylation,\n",
    "```"
   ]
  },
  {
   "cell_type": "markdown",
   "id": "12f1022c-503e-4b45-b7be-b7e1e8d4f638",
   "metadata": {},
   "source": [
    "``` python\n",
    "# local copies of the data are more preferred over downloading from internet\n",
    "onto_path.append('/path to onto folder')\n",
    "onto = get_ontology('/path/*.owl,').load(only_local = True/False, reload_if_newer = True# updates the quadstore)\n",
    "```"
   ]
  },
  {
   "cell_type": "code",
   "execution_count": 30,
   "id": "3669638b-218f-4ad6-b398-070ab4db8753",
   "metadata": {},
   "outputs": [
    {
     "name": "stdout",
     "output_type": "stream",
     "text": [
      "The lab_black extension is already loaded. To reload it, use:\n",
      "  %reload_ext lab_black\n"
     ]
    }
   ],
   "source": [
    "# !pip install nb_black\n",
    "%load_ext lab_black"
   ]
  },
  {
   "cell_type": "code",
   "execution_count": 31,
   "id": "db5352fa-4fbb-4f42-9f4d-6c3ae15ff7ba",
   "metadata": {},
   "outputs": [
    {
     "name": "stderr",
     "output_type": "stream",
     "text": [
      "INFO:werkzeug: * Running on http://localhost:5000/ (Press CTRL+C to quit)\n",
      "INFO:werkzeug:127.0.0.1 - - [14/Jan/2023 00:10:15] \"GET / HTTP/1.1\" 200 -\n",
      "INFO:werkzeug:127.0.0.1 - - [14/Jan/2023 00:10:16] \"\u001b[33mGET /favicon.ico HTTP/1.1\u001b[0m\" 404 -\n",
      "INFO:werkzeug:127.0.0.1 - - [14/Jan/2023 00:10:18] \"GET /class/http://www.semanticweb.org/khadgaa/ontologies/2023/0/bacteria%23Bacterium HTTP/1.1\" 200 -\n",
      "INFO:werkzeug:127.0.0.1 - - [14/Jan/2023 00:10:25] \"GET /class/http://www.w3.org/2002/07/owl%23Thing HTTP/1.1\" 200 -\n",
      "INFO:werkzeug:127.0.0.1 - - [14/Jan/2023 00:10:26] \"GET /class/http://www.semanticweb.org/khadgaa/ontologies/2023/0/bacteria%23Grouping HTTP/1.1\" 200 -\n",
      "INFO:werkzeug:127.0.0.1 - - [14/Jan/2023 00:10:28] \"GET /class/http://www.semanticweb.org/khadgaa/ontologies/2023/0/bacteria%23InPair HTTP/1.1\" 200 -\n",
      "INFO:werkzeug:127.0.0.1 - - [14/Jan/2023 00:10:29] \"GET /class/http://www.semanticweb.org/khadgaa/ontologies/2023/0/bacteria%23Grouping HTTP/1.1\" 200 -\n",
      "INFO:werkzeug:127.0.0.1 - - [14/Jan/2023 00:10:32] \"GET /individual/http://www.semanticweb.org/khadgaa/ontologies/2023/0/bacteria%23in_cluster1 HTTP/1.1\" 200 -\n",
      "INFO:werkzeug:127.0.0.1 - - [14/Jan/2023 00:10:34] \"GET /class/http://www.semanticweb.org/khadgaa/ontologies/2023/0/bacteria%23InCluster HTTP/1.1\" 200 -\n",
      "INFO:werkzeug:127.0.0.1 - - [14/Jan/2023 00:10:38] \"GET /class/http://www.semanticweb.org/khadgaa/ontologies/2023/0/bacteria%23Grouping HTTP/1.1\" 200 -\n",
      "ERROR:__main__:Exception on /class/http://www.semanticweb.org/khadgaa/ontologies/2023/0/bacteria% [GET]\n",
      "Traceback (most recent call last):\n",
      "  File \"C:\\Users\\KHADGA JYOTH ALLI\\anaconda3\\lib\\site-packages\\flask\\app.py\", line 2447, in wsgi_app\n",
      "    response = self.full_dispatch_request()\n",
      "  File \"C:\\Users\\KHADGA JYOTH ALLI\\anaconda3\\lib\\site-packages\\flask\\app.py\", line 1952, in full_dispatch_request\n",
      "    rv = self.handle_user_exception(e)\n",
      "  File \"C:\\Users\\KHADGA JYOTH ALLI\\anaconda3\\lib\\site-packages\\flask\\app.py\", line 1821, in handle_user_exception\n",
      "    reraise(exc_type, exc_value, tb)\n",
      "  File \"C:\\Users\\KHADGA JYOTH ALLI\\anaconda3\\lib\\site-packages\\flask\\_compat.py\", line 39, in reraise\n",
      "    raise value\n",
      "  File \"C:\\Users\\KHADGA JYOTH ALLI\\anaconda3\\lib\\site-packages\\flask\\app.py\", line 1950, in full_dispatch_request\n",
      "    rv = self.dispatch_request()\n",
      "  File \"C:\\Users\\KHADGA JYOTH ALLI\\anaconda3\\lib\\site-packages\\flask\\app.py\", line 1936, in dispatch_request\n",
      "    return self.view_functions[rule.endpoint](**req.view_args)\n",
      "  File \"C:\\Users\\KHADGA JYOTH ALLI\\AppData\\Local\\Temp\\ipykernel_24484\\3124577928.py\", line 27, in class_page\n",
      "    html = \"\"\"<html><body><h2>'%s' class</h2>\"\"\" % Class.name\n",
      "AttributeError: 'NoneType' object has no attribute 'name'\n",
      "INFO:werkzeug:127.0.0.1 - - [14/Jan/2023 00:10:50] \"\u001b[35m\u001b[1mGET /class/http://www.semanticweb.org/khadgaa/ontologies/2023/0/bacteria% HTTP/1.1\u001b[0m\" 500 -\n",
      "INFO:werkzeug:127.0.0.1 - - [14/Jan/2023 00:11:02] \"GET / HTTP/1.1\" 200 -\n",
      "INFO:werkzeug:127.0.0.1 - - [14/Jan/2023 00:11:08] \"GET /class/http://www.semanticweb.org/khadgaa/ontologies/2023/0/bacteria%23Bacterium HTTP/1.1\" 200 -\n",
      "INFO:werkzeug:127.0.0.1 - - [14/Jan/2023 00:11:14] \"GET /individual/http://www.semanticweb.org/khadgaa/ontologies/2023/0/bacteria%23unknown_bacterium HTTP/1.1\" 200 -\n",
      "INFO:werkzeug:127.0.0.1 - - [14/Jan/2023 00:11:28] \"GET / HTTP/1.1\" 200 -\n"
     ]
    }
   ],
   "source": [
    "from flask import Flask, url_for\n",
    "\n",
    "app = Flask(__name__)\n",
    "\n",
    "\n",
    "@app.route(\"/path/<parameter>\")\n",
    "def generate_web_page(parameter):\n",
    "    html = \"<html><body>\"\n",
    "    html += \"The value of the parameter is: %s % parameter\"\n",
    "    html += \"</body></html>\"\n",
    "    return html\n",
    "\n",
    "\n",
    "# The full program of our website is as follows:\n",
    "# File dynamic_website.py\n",
    "from owlready2 import *\n",
    "\n",
    "onto = get_ontology(\"bacteria.owl\").load()\n",
    "from flask import Flask, url_for\n",
    "\n",
    "app = Flask(__name__)\n",
    "\n",
    "\n",
    "@app.route(\"/\")\n",
    "def ontology_page():\n",
    "    html = \"\"\"<html><body>\"\"\"\n",
    "    html += \"\"\"<h2>'%s' ontology</h2>\"\"\" % onto.base_iri\n",
    "    html += \"\"\"<h3>Root classes</h3>\"\"\"\n",
    "    for Class in Thing.subclasses():\n",
    "        html += \"\"\"<p><a href=\"%s\">%s</a></p>\"\"\" % (\n",
    "            url_for(\"class_page\", iri=Class.iri),\n",
    "            Class.name,\n",
    "        )\n",
    "        html += \"\"\"</body></html>\"\"\"\n",
    "    return html\n",
    "\n",
    "\n",
    "@app.route(\"/class/<path:iri>\")\n",
    "def class_page(iri):\n",
    "    Class = IRIS[iri]\n",
    "    html = \"\"\"<html><body><h2>'%s' class</h2>\"\"\" % Class.name\n",
    "    html += \"\"\"<h3>superclasses</h3>\"\"\"\n",
    "    for SuperClass in Class.is_a:\n",
    "        if isinstance(SuperClass, ThingClass):\n",
    "            html += \"\"\"<p><a href=\"%s\">%s</a></p>\"\"\" % (\n",
    "                url_for(\"class_page\", iri=SuperClass.iri),\n",
    "                SuperClass.name,\n",
    "            )\n",
    "        else:\n",
    "            html += \"\"\"<p>%s</p>\"\"\" % SuperClass\n",
    "    html += \"\"\"<h3>equivalent classes</h3>\"\"\"\n",
    "    for EquivClass in Class.equivalent_to:\n",
    "        html += \"\"\"<p>%s</p>\"\"\" % EquivClass\n",
    "    html += \"\"\"<h3>Subclasses</h3>\"\"\"\n",
    "    for SubClass in Class.subclasses():\n",
    "        html += \"\"\"<p><a href=\"%s\">%s</a></p>\"\"\" % (\n",
    "            url_for(\"class_page\", iri=SubClass.iri),\n",
    "            SubClass.name,\n",
    "        )\n",
    "    html += \"\"\"<h3>Individuals</h3>\"\"\"\n",
    "    for individual in Class.instances():\n",
    "        html += \"\"\"<p><a href=\"%s\">%s</a></p>\"\"\" % (\n",
    "            url_for(\"individual_page\", iri=individual.iri),\n",
    "            individual.name,\n",
    "        )\n",
    "    html += \"\"\"</body></html>\"\"\"\n",
    "    return html\n",
    "\n",
    "\n",
    "@app.route(\"/individual/<path:iri>\")\n",
    "def individual_page(iri):\n",
    "    individual = IRIS[iri]\n",
    "    html = \"\"\"<html><body><h2>'%s' individual</h2>\"\"\" % individual.name\n",
    "    html += \"\"\"<h3>Classes</h3>\"\"\"\n",
    "    for Class in individual.is_a:\n",
    "        html += \"\"\"<p><a href=\"%s\">%s</a></p>\"\"\" % (\n",
    "            url_for(\"class_page\", iri=Class.iri),\n",
    "            Class.name,\n",
    "        )\n",
    "    html += \"\"\"<h3>Relations</h3>\"\"\"\n",
    "    if isinstance(individual, onto.Bacterium):\n",
    "        html += \"\"\"<p>shape = %s</p>\"\"\" % individual.has_shape\n",
    "        html += \"\"\"<p>grouping = %s</p>\"\"\" % individual.has_grouping\n",
    "        if individual.gram_positive == True:\n",
    "            html += \"\"\"<p>Gram +</p>\"\"\"\n",
    "        elif individual.gram_positive == False:\n",
    "            html += \"\"\"<p>Gram -</p>\"\"\"\n",
    "    html += \"\"\"</body></html>\"\"\"\n",
    "    return html\n",
    "\n",
    "\n",
    "import werkzeug.serving\n",
    "\n",
    "werkzeug.serving.run_simple(\"localhost\", 5000, app)"
   ]
  },
  {
   "cell_type": "code",
   "execution_count": null,
   "id": "3aa94703-31a2-4c88-a82e-1a45369db18b",
   "metadata": {},
   "outputs": [],
   "source": []
  }
 ],
 "metadata": {
  "kernelspec": {
   "display_name": "Python 3 (ipykernel)",
   "language": "python",
   "name": "python3"
  },
  "language_info": {
   "codemirror_mode": {
    "name": "ipython",
    "version": 3
   },
   "file_extension": ".py",
   "mimetype": "text/x-python",
   "name": "python",
   "nbconvert_exporter": "python",
   "pygments_lexer": "ipython3",
   "version": "3.9.13"
  }
 },
 "nbformat": 4,
 "nbformat_minor": 5
}
