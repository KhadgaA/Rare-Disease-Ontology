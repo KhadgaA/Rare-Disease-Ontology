{
 "cells": [
  {
   "cell_type": "code",
   "execution_count": 1,
   "id": "66b2e157-e95c-4b24-8359-a27a573cb1a9",
   "metadata": {},
   "outputs": [],
   "source": [
    "import pandas as pd\n",
    "import numpy as np\n",
    "pd.set_option('display.max_columns', None) \n",
    "# pd.set_option('display.max_rows', None)\n",
    "pd.set_option('display.max_colwidth', None)"
   ]
  },
  {
   "cell_type": "code",
   "execution_count": 2,
   "id": "1170e607-f467-4544-bcff-a0be3307bfab",
   "metadata": {},
   "outputs": [],
   "source": [
    "from owlready2 import *"
   ]
  },
  {
   "cell_type": "code",
   "execution_count": 4,
   "id": "e7e82463-89c7-492b-8d59-3e7db1ae0670",
   "metadata": {},
   "outputs": [
    {
     "ename": "OwlReadyOntologyParsingError",
     "evalue": "NTriples parsing error (or unrecognized file format) in https://raw.githubusercontent.com/DiseaseOntology/HumanDiseaseOntology/main/src/ontology/ext.owl.",
     "output_type": "error",
     "traceback": [
      "\u001b[1;31m---------------------------------------------------------------------------\u001b[0m",
      "\u001b[1;31mValueError\u001b[0m                                Traceback (most recent call last)",
      "File \u001b[1;32m~\\anaconda3\\lib\\site-packages\\owlready2\\driver.py:143\u001b[0m, in \u001b[0;36mBaseSubGraph.parse\u001b[1;34m(self, f, format, delete_existing_triples, default_base)\u001b[0m\n\u001b[0;32m    142\u001b[0m \u001b[38;5;28;01mif\u001b[39;00m owlready2_optimized:\n\u001b[1;32m--> 143\u001b[0m   \u001b[43mowlready2_optimized\u001b[49m\u001b[38;5;241;43m.\u001b[39;49m\u001b[43mparse_ntriples\u001b[49m\u001b[43m(\u001b[49m\u001b[43mf\u001b[49m\u001b[43m,\u001b[49m\u001b[43m \u001b[49m\u001b[43mobjs\u001b[49m\u001b[43m,\u001b[49m\u001b[43m \u001b[49m\u001b[43mdatas\u001b[49m\u001b[43m,\u001b[49m\u001b[43m \u001b[49m\u001b[43minsert_objs\u001b[49m\u001b[43m,\u001b[49m\u001b[43m \u001b[49m\u001b[43minsert_datas\u001b[49m\u001b[43m,\u001b[49m\u001b[43m \u001b[49m\u001b[43m_abbreviate\u001b[49m\u001b[43m,\u001b[49m\u001b[43m \u001b[49m\u001b[43mnew_blank\u001b[49m\u001b[43m,\u001b[49m\u001b[43m \u001b[49m\u001b[43mdefault_base\u001b[49m\u001b[43m)\u001b[49m\n\u001b[0;32m    145\u001b[0m \u001b[38;5;28;01melse\u001b[39;00m:\n",
      "File \u001b[1;32mowlready2_optimized.pyx:94\u001b[0m, in \u001b[0;36mowlready2_optimized.parse_ntriples\u001b[1;34m()\u001b[0m\n",
      "\u001b[1;31mValueError\u001b[0m: need more than 1 value to unpack",
      "\nThe above exception was the direct cause of the following exception:\n",
      "\u001b[1;31mOwlReadyOntologyParsingError\u001b[0m              Traceback (most recent call last)",
      "Input \u001b[1;32mIn [4]\u001b[0m, in \u001b[0;36m<cell line: 3>\u001b[1;34m()\u001b[0m\n\u001b[0;32m      1\u001b[0m ordo \u001b[38;5;241m=\u001b[39m get_ontology(\u001b[38;5;124m'\u001b[39m\u001b[38;5;124mordo.owl\u001b[39m\u001b[38;5;124m'\u001b[39m)\u001b[38;5;241m.\u001b[39mload()\n\u001b[0;32m      2\u001b[0m ordo_resourse \u001b[38;5;241m=\u001b[39m ordo\u001b[38;5;241m.\u001b[39mget_namespace(\u001b[38;5;124m'\u001b[39m\u001b[38;5;124mhttp://www.orpha.net/ORDO/\u001b[39m\u001b[38;5;124m'\u001b[39m)\n\u001b[1;32m----> 3\u001b[0m doid_rare \u001b[38;5;241m=\u001b[39m \u001b[43mget_ontology\u001b[49m\u001b[43m(\u001b[49m\u001b[38;5;124;43m'\u001b[39;49m\u001b[38;5;124;43mdoid.owl\u001b[39;49m\u001b[38;5;124;43m'\u001b[39;49m\u001b[43m)\u001b[49m\u001b[38;5;241;43m.\u001b[39;49m\u001b[43mload\u001b[49m\u001b[43m(\u001b[49m\u001b[43m)\u001b[49m\n\u001b[0;32m      4\u001b[0m doid_rare_resourse \u001b[38;5;241m=\u001b[39m doid_rare\u001b[38;5;241m.\u001b[39mget_namespace(\u001b[38;5;124m'\u001b[39m\u001b[38;5;124mhttp://purl.obolibrary.org/obo/\u001b[39m\u001b[38;5;124m'\u001b[39m)\n",
      "File \u001b[1;32m~\\anaconda3\\lib\\site-packages\\owlready2\\namespace.py:1111\u001b[0m, in \u001b[0;36mOntology.load\u001b[1;34m(self, only_local, fileobj, reload, reload_if_newer, url, **args)\u001b[0m\n\u001b[0;32m   1108\u001b[0m \u001b[38;5;28mself\u001b[39m\u001b[38;5;241m.\u001b[39mworld\u001b[38;5;241m.\u001b[39mgraph\u001b[38;5;241m.\u001b[39mrelease_write_lock()\n\u001b[0;32m   1110\u001b[0m \u001b[38;5;66;03m# Load imported ontologies\u001b[39;00m\n\u001b[1;32m-> 1111\u001b[0m imported_ontologies \u001b[38;5;241m=\u001b[39m [\u001b[38;5;28mself\u001b[39m\u001b[38;5;241m.\u001b[39mworld\u001b[38;5;241m.\u001b[39mget_ontology(\u001b[38;5;28mself\u001b[39m\u001b[38;5;241m.\u001b[39m_unabbreviate(abbrev_iri))\u001b[38;5;241m.\u001b[39mload() \u001b[38;5;28;01mfor\u001b[39;00m abbrev_iri \u001b[38;5;129;01min\u001b[39;00m \u001b[38;5;28mself\u001b[39m\u001b[38;5;241m.\u001b[39mworld\u001b[38;5;241m.\u001b[39m_get_obj_triples_sp_o(\u001b[38;5;28mself\u001b[39m\u001b[38;5;241m.\u001b[39mstorid, owl_imports)]\n\u001b[0;32m   1112\u001b[0m \u001b[38;5;28mself\u001b[39m\u001b[38;5;241m.\u001b[39m_imported_ontologies\u001b[38;5;241m.\u001b[39m_set(imported_ontologies)\n\u001b[0;32m   1114\u001b[0m \u001b[38;5;66;03m# Search for property names -- must be done AFTER loading imported ontologies, because the properties might be partly defined in the imported ontologies\u001b[39;00m\n",
      "File \u001b[1;32m~\\anaconda3\\lib\\site-packages\\owlready2\\namespace.py:1111\u001b[0m, in \u001b[0;36m<listcomp>\u001b[1;34m(.0)\u001b[0m\n\u001b[0;32m   1108\u001b[0m \u001b[38;5;28mself\u001b[39m\u001b[38;5;241m.\u001b[39mworld\u001b[38;5;241m.\u001b[39mgraph\u001b[38;5;241m.\u001b[39mrelease_write_lock()\n\u001b[0;32m   1110\u001b[0m \u001b[38;5;66;03m# Load imported ontologies\u001b[39;00m\n\u001b[1;32m-> 1111\u001b[0m imported_ontologies \u001b[38;5;241m=\u001b[39m [\u001b[38;5;28;43mself\u001b[39;49m\u001b[38;5;241;43m.\u001b[39;49m\u001b[43mworld\u001b[49m\u001b[38;5;241;43m.\u001b[39;49m\u001b[43mget_ontology\u001b[49m\u001b[43m(\u001b[49m\u001b[38;5;28;43mself\u001b[39;49m\u001b[38;5;241;43m.\u001b[39;49m\u001b[43m_unabbreviate\u001b[49m\u001b[43m(\u001b[49m\u001b[43mabbrev_iri\u001b[49m\u001b[43m)\u001b[49m\u001b[43m)\u001b[49m\u001b[38;5;241;43m.\u001b[39;49m\u001b[43mload\u001b[49m\u001b[43m(\u001b[49m\u001b[43m)\u001b[49m \u001b[38;5;28;01mfor\u001b[39;00m abbrev_iri \u001b[38;5;129;01min\u001b[39;00m \u001b[38;5;28mself\u001b[39m\u001b[38;5;241m.\u001b[39mworld\u001b[38;5;241m.\u001b[39m_get_obj_triples_sp_o(\u001b[38;5;28mself\u001b[39m\u001b[38;5;241m.\u001b[39mstorid, owl_imports)]\n\u001b[0;32m   1112\u001b[0m \u001b[38;5;28mself\u001b[39m\u001b[38;5;241m.\u001b[39m_imported_ontologies\u001b[38;5;241m.\u001b[39m_set(imported_ontologies)\n\u001b[0;32m   1114\u001b[0m \u001b[38;5;66;03m# Search for property names -- must be done AFTER loading imported ontologies, because the properties might be partly defined in the imported ontologies\u001b[39;00m\n",
      "File \u001b[1;32m~\\anaconda3\\lib\\site-packages\\owlready2\\namespace.py:1057\u001b[0m, in \u001b[0;36mOntology.load\u001b[1;34m(self, only_local, fileobj, reload, reload_if_newer, url, **args)\u001b[0m\n\u001b[0;32m   1053\u001b[0m \u001b[38;5;66;03m#try:     new_base_iri = self.graph.parse(fileobj, default_base = self._base_iri, **args)\u001b[39;00m\n\u001b[0;32m   1054\u001b[0m \u001b[38;5;66;03m#finally: fileobj.close()\u001b[39;00m\n\u001b[0;32m   1055\u001b[0m \u001b[38;5;28;01mtry\u001b[39;00m:\n\u001b[0;32m   1056\u001b[0m   \u001b[38;5;66;03m#new_base_iri = self.graph.parse(fileobj, default_base = self._base_iri, **args)\u001b[39;00m\n\u001b[1;32m-> 1057\u001b[0m   new_base_iri \u001b[38;5;241m=\u001b[39m \u001b[38;5;28mself\u001b[39m\u001b[38;5;241m.\u001b[39mgraph\u001b[38;5;241m.\u001b[39mparse(fileobj, default_base \u001b[38;5;241m=\u001b[39m \u001b[38;5;28mself\u001b[39m\u001b[38;5;241m.\u001b[39m_orig_base_iri, \u001b[38;5;241m*\u001b[39m\u001b[38;5;241m*\u001b[39margs)\n\u001b[0;32m   1058\u001b[0m \u001b[38;5;28;01mexcept\u001b[39;00m OwlReadyOntologyParsingError:\n\u001b[0;32m   1059\u001b[0m   \u001b[38;5;28;01mif\u001b[39;00m f\u001b[38;5;241m.\u001b[39mendswith(\u001b[38;5;124m\"\u001b[39m\u001b[38;5;124m.owl\u001b[39m\u001b[38;5;124m\"\u001b[39m) \u001b[38;5;129;01mor\u001b[39;00m f\u001b[38;5;241m.\u001b[39mendswith(\u001b[38;5;124m\"\u001b[39m\u001b[38;5;124m.rdf\u001b[39m\u001b[38;5;124m\"\u001b[39m) \u001b[38;5;129;01mor\u001b[39;00m f\u001b[38;5;241m.\u001b[39mendswith(\u001b[38;5;124m\"\u001b[39m\u001b[38;5;124m.xml\u001b[39m\u001b[38;5;124m\"\u001b[39m) \u001b[38;5;129;01mor\u001b[39;00m url: \u001b[38;5;28;01mraise\u001b[39;00m\n",
      "File \u001b[1;32m~\\anaconda3\\lib\\site-packages\\owlready2\\driver.py:190\u001b[0m, in \u001b[0;36mBaseSubGraph.parse\u001b[1;34m(self, f, format, delete_existing_triples, default_base)\u001b[0m\n\u001b[0;32m    188\u001b[0m       \u001b[38;5;28;01mraise\u001b[39;00m OwlReadyOntologyParsingError(\u001b[38;5;124m\"\u001b[39m\u001b[38;5;124mNTriples parsing error (or unrecognized file format) in \u001b[39m\u001b[38;5;132;01m%s\u001b[39;00m\u001b[38;5;124m, line \u001b[39m\u001b[38;5;132;01m%s\u001b[39;00m\u001b[38;5;124m.\u001b[39m\u001b[38;5;124m\"\u001b[39m \u001b[38;5;241m%\u001b[39m (\u001b[38;5;28mgetattr\u001b[39m(f, \u001b[38;5;124m\"\u001b[39m\u001b[38;5;124mname\u001b[39m\u001b[38;5;124m\"\u001b[39m, \u001b[38;5;28mgetattr\u001b[39m(f, \u001b[38;5;124m\"\u001b[39m\u001b[38;5;124murl\u001b[39m\u001b[38;5;124m\"\u001b[39m, \u001b[38;5;124m\"\u001b[39m\u001b[38;5;124m???\u001b[39m\u001b[38;5;124m\"\u001b[39m)), current_line)) \u001b[38;5;28;01mfrom\u001b[39;00m \u001b[38;5;21;01me\u001b[39;00m\n\u001b[0;32m    189\u001b[0m     \u001b[38;5;28;01melse\u001b[39;00m:\n\u001b[1;32m--> 190\u001b[0m       \u001b[38;5;28;01mraise\u001b[39;00m OwlReadyOntologyParsingError(\u001b[38;5;124m\"\u001b[39m\u001b[38;5;124mNTriples parsing error (or unrecognized file format) in \u001b[39m\u001b[38;5;132;01m%s\u001b[39;00m\u001b[38;5;124m.\u001b[39m\u001b[38;5;124m\"\u001b[39m \u001b[38;5;241m%\u001b[39m \u001b[38;5;28mgetattr\u001b[39m(f, \u001b[38;5;124m\"\u001b[39m\u001b[38;5;124mname\u001b[39m\u001b[38;5;124m\"\u001b[39m, \u001b[38;5;28mgetattr\u001b[39m(f, \u001b[38;5;124m\"\u001b[39m\u001b[38;5;124murl\u001b[39m\u001b[38;5;124m\"\u001b[39m, \u001b[38;5;124m\"\u001b[39m\u001b[38;5;124m???\u001b[39m\u001b[38;5;124m\"\u001b[39m))) \u001b[38;5;28;01mfrom\u001b[39;00m \u001b[38;5;21;01me\u001b[39;00m\n\u001b[0;32m    192\u001b[0m \u001b[38;5;28;01melif\u001b[39;00m \u001b[38;5;28mformat\u001b[39m \u001b[38;5;241m==\u001b[39m \u001b[38;5;124m\"\u001b[39m\u001b[38;5;124mrdfxml\u001b[39m\u001b[38;5;124m\"\u001b[39m:\n\u001b[0;32m    193\u001b[0m   objs, datas, on_prepare_obj, on_prepare_data, insert_objs, insert_datas, new_blank, _abbreviate, on_finish \u001b[38;5;241m=\u001b[39m \u001b[38;5;28mself\u001b[39m\u001b[38;5;241m.\u001b[39mcreate_parse_func(\u001b[38;5;28mgetattr\u001b[39m(f, \u001b[38;5;124m\"\u001b[39m\u001b[38;5;124mname\u001b[39m\u001b[38;5;124m\"\u001b[39m, \u001b[38;5;124m\"\u001b[39m\u001b[38;5;124m\"\u001b[39m), delete_existing_triples)\n",
      "\u001b[1;31mOwlReadyOntologyParsingError\u001b[0m: NTriples parsing error (or unrecognized file format) in https://raw.githubusercontent.com/DiseaseOntology/HumanDiseaseOntology/main/src/ontology/ext.owl."
     ]
    }
   ],
   "source": [
    "ordo = get_ontology('ordo.owl').load()\n",
    "ordo_resourse = ordo.get_namespace('http://www.orpha.net/ORDO/')\n",
    "doid_rare = get_ontology('doid.owl').load()\n",
    "doid_rare_resourse = doid_rare.get_namespace('http://purl.obolibrary.org/obo/')\n"
   ]
  },
  {
   "cell_type": "code",
   "execution_count": null,
   "id": "39a9cc28-5e59-48ad-92da-e53cd9644d23",
   "metadata": {},
   "outputs": [],
   "source": [
    "# with open('ordo_test','wb') as f: \n",
    "#     ordo.graph.save(f)"
   ]
  },
  {
   "cell_type": "code",
   "execution_count": null,
   "id": "94d8b4e6-eecc-4af0-812b-e76c419bf37a",
   "metadata": {},
   "outputs": [],
   "source": [
    "# with open('ordo_test_dump.txt','w') as f:\n",
    "#     ordo.graph.dump(file = f)"
   ]
  },
  {
   "cell_type": "code",
   "execution_count": null,
   "id": "eee4994b-ec54-4f94-ae08-1f80219691d9",
   "metadata": {},
   "outputs": [],
   "source": [
    "# ordo_m = get_ontology('merged_ontology.owl').load()"
   ]
  },
  {
   "cell_type": "code",
   "execution_count": null,
   "id": "bba063c0-8aa2-48c0-a0e6-25967d61cfb7",
   "metadata": {},
   "outputs": [],
   "source": [
    "# with open('ordo_test_dump_mer.txt','w') as f:\n",
    "#     ordo_m.graph.dump(file = f)"
   ]
  },
  {
   "cell_type": "code",
   "execution_count": null,
   "id": "8a08256b-fa31-4650-b7d8-8c47720bcf58",
   "metadata": {
    "scrolled": true,
    "tags": []
   },
   "outputs": [],
   "source": [
    "mapp = {}\n",
    "for i in doid_rare.classes():\n",
    "    try:\n",
    "        for j in doid_rare_resourse[f'{i.name}'].hasDbXref:\n",
    "            if j.startswith('ORDO'):\n",
    "                # print(i.name,j.replace('ORDO:','Orphanet_'))\n",
    "                mapp[f'{i.name}'] = f\"{j.replace('ORDO:','Orphanet_')}\"\n",
    "                continue\n",
    "        \n",
    "    except:\n",
    "        print('beak')\n",
    "        break\n",
    "reverse_mapp = {}\n",
    "for key,val in mapp.items():\n",
    "    reverse_mapp[val] = key"
   ]
  },
  {
   "cell_type": "code",
   "execution_count": null,
   "id": "9eb530c1-88d8-49bd-b90f-5c114d8d8523",
   "metadata": {},
   "outputs": [],
   "source": [
    "# create a new ontology to merge the other two ontologies into\n",
    "merged_ontology = get_ontology(\"http://www.example.com/test_merged_v2\")"
   ]
  },
  {
   "cell_type": "code",
   "execution_count": null,
   "id": "759ac4c1-ca67-4f36-a33b-01ff4608954c",
   "metadata": {},
   "outputs": [],
   "source": [
    "def unabbreviate(item,onto):\n",
    "    try:\n",
    "        return onto._unabbreviate(item)\n",
    "    except:\n",
    "        return False\n",
    "    \n",
    "\n",
    "def abbreviate(item,onto):\n",
    "    try:\n",
    "        return onto._abbreviate(item)\n",
    "    except:\n",
    "        return False"
   ]
  },
  {
   "cell_type": "code",
   "execution_count": null,
   "id": "87a68a0e-6d5e-40a8-802d-7bd15f396d7f",
   "metadata": {
    "scrolled": true,
    "tags": []
   },
   "outputs": [],
   "source": [
    "for i in ordo._get_triples_spod_spod(None,None,None,None):\n",
    "    print(i)\n",
    "    s,p,o,d = i\n",
    "    # s,p,o = ordo._unabbreviate(s),ordo._unabbreviate(p),ordo._unabbreviate(o)\n",
    "    if d == None:\n",
    "        merged_ontology._add_obj_triple_spo(s,p,o)\n",
    "    else:\n",
    "        # d = ordo._unabbreviate(d)\n",
    "        merged_ontology._add_data_triple_spod(s,p,o,d)\n",
    "    \n",
    "    # break"
   ]
  },
  {
   "cell_type": "code",
   "execution_count": null,
   "id": "f3d6a095-e792-475a-8498-581caa0504ae",
   "metadata": {},
   "outputs": [],
   "source": [
    "def doid_ordo(doid=False,ordo=False):\n",
    "    if doid:\n",
    "        try: \n",
    "            ordo = ordo_resourse.base_iri + mapp[doid.split('/')[-1]]\n",
    "        except:\n",
    "            pass\n",
    "        return ordo\n",
    "    else:\n",
    "        try:\n",
    "            doid = doid_rare_resourse.base_iri + reverse_mapp[ordo.split('/')[-1]]\n",
    "        except:\n",
    "            pass\n",
    "        return doid"
   ]
  },
  {
   "cell_type": "code",
   "execution_count": null,
   "id": "16bb3ac1-25bf-4fc7-9f34-ad7a44ed3556",
   "metadata": {},
   "outputs": [],
   "source": [
    "def get_storid(item, onto):\n",
    "    try: \n",
    "        key = default_world._get_by_storid(item).name\n",
    "        val = mapp[key]\n",
    "        return onto[val].storid\n",
    "    except: \n",
    "        pass\n",
    "    return item"
   ]
  },
  {
   "cell_type": "code",
   "execution_count": null,
   "id": "7b2753ec-88ad-4bb3-88d2-f26d1bf53c55",
   "metadata": {
    "scrolled": true,
    "tags": []
   },
   "outputs": [],
   "source": [
    "for key,val in reverse_mapp.items():\n",
    "    doid_storeid = doid_rare_resourse[val].storid\n",
    "    ordo_storeid = ordo_resourse[key].storid\n",
    "    for i in doid_rare._get_triples_spod_spod(doid_storeid,None,None,None):\n",
    "        print(i)\n",
    "        s,p,o,d = i\n",
    "        # s,p,o = unabbreviate(s,ordo), unabbreviate(p,ordo), unabbreviate(o,ordo)\n",
    "        o = get_storid(o, ordo_resourse)\n",
    "        \n",
    "        print(s,p,o, ordo_storeid)\n",
    "        if d is None:\n",
    "            merged_ontology._add_obj_triple_spo(ordo_storeid, p, o)\n",
    "        else:\n",
    "            # d = ordo._unabbreviate(d)\n",
    "            merged_ontology._add_data_triple_spod(s,p,o,d)\n",
    "    for i in doid_rare._get_triples_spod_spod(None,None,doid_storeid,None):\n",
    "        print(i)\n",
    "        s,p,o,d = i\n",
    "        # s,p,o = unabbreviate(s,ordo), unabbreviate(p,ordo), unabbreviate(o,ordo)\n",
    "        s = get_storid(s, ordo_resourse)\n",
    "        print(s,p,o, ordo_storeid)\n",
    "        if d is None:\n",
    "            merged_ontology._add_obj_triple_spo(s, p, ordo_storeid)\n",
    "        else:\n",
    "            # d = ordo._unabbreviate(d)\n",
    "            merged_ontology._add_data_triple_spod(s,p,ordo_storeid,d)\n",
    "\n",
    "    # break"
   ]
  },
  {
   "cell_type": "code",
   "execution_count": null,
   "id": "42fa24a4-61e6-48bb-a503-503946b67b14",
   "metadata": {},
   "outputs": [],
   "source": [
    "with open('merged_test_v2.owl','wb') as f: \n",
    "    merged_ontology.graph.save(f)"
   ]
  },
  {
   "cell_type": "code",
   "execution_count": null,
   "id": "c6ab62df-4475-4b7e-8202-075a8ac415ec",
   "metadata": {},
   "outputs": [],
   "source": [
    "default_world._get_by_storid(15679)"
   ]
  },
  {
   "cell_type": "code",
   "execution_count": null,
   "id": "56abdfa8-3802-430c-b775-7edea78d0644",
   "metadata": {
    "scrolled": true,
    "tags": []
   },
   "outputs": [],
   "source": [
    "doid_rare_resourse['DOID_0050335'].label"
   ]
  },
  {
   "cell_type": "code",
   "execution_count": null,
   "id": "1a0ad12d-9c20-4652-ad66-d5424dc78ddc",
   "metadata": {},
   "outputs": [],
   "source": [
    "mapp['DOID_0050431']"
   ]
  },
  {
   "cell_type": "code",
   "execution_count": null,
   "id": "ce697ae3-ed08-410c-94b2-11e5b07a7980",
   "metadata": {},
   "outputs": [],
   "source": [
    "# reverse_mapp.items()\n",
    "ordo_resourse[mapp['DOID_0050431']].name"
   ]
  },
  {
   "cell_type": "code",
   "execution_count": null,
   "id": "0a0313a1-8820-4175-9292-ac1d011806ef",
   "metadata": {},
   "outputs": [],
   "source": [
    "len(list(ordo._get_triples_spod_spod(*((None,)*4))))"
   ]
  },
  {
   "cell_type": "code",
   "execution_count": null,
   "id": "946c1a20-a359-4e68-b216-a5e92bbd2d51",
   "metadata": {},
   "outputs": [],
   "source": [
    "len(list(merged_ontology._get_triples_spod_spod(*((None,)*4))))"
   ]
  },
  {
   "cell_type": "code",
   "execution_count": null,
   "id": "e8e233d2-5762-45c3-8557-1e182ef28bf3",
   "metadata": {},
   "outputs": [],
   "source": [
    "len(list(doid_rare._get_triples_spod_spod(*((None,)*4))))"
   ]
  },
  {
   "cell_type": "code",
   "execution_count": null,
   "id": "77f36e7a-258d-4086-9573-f9a9fa4d8a73",
   "metadata": {
    "scrolled": true,
    "tags": []
   },
   "outputs": [],
   "source": [
    "from tqdm import tqdm\n",
    "b = list(ordo._get_triples_spod_spod(*((None,)*4)))\n",
    "a = list(merged_ontology._get_triples_spod_spod(*((None,)*4)))\n",
    "for e in  tqdm(a): \n",
    "    if e not in b:\n",
    "        print(e)\n",
    "    else:\n",
    "        # print(f\"removed:{e}\")\n",
    "        b.remove(e)"
   ]
  },
  {
   "cell_type": "code",
   "execution_count": null,
   "id": "44b7fd6d-a3f9-4fe4-8e99-96846f2953cb",
   "metadata": {},
   "outputs": [],
   "source": [
    "import ses"
   ]
  },
  {
   "cell_type": "code",
   "execution_count": null,
   "id": "05a0e2b9-fecb-4d1c-baee-721b64512b16",
   "metadata": {},
   "outputs": [],
   "source": [
    "lst = [1,2,3,1]\n",
    "lst.remove(1)"
   ]
  },
  {
   "cell_type": "code",
   "execution_count": null,
   "id": "bc754f09-a0d8-427e-9886-6f5499b46896",
   "metadata": {},
   "outputs": [],
   "source": [
    "lst"
   ]
  },
  {
   "cell_type": "code",
   "execution_count": null,
   "id": "92111171-2ddd-4c92-ab9b-78a1df06c2e9",
   "metadata": {},
   "outputs": [],
   "source": [
    "doid_rare_resourse['IAO_0000115'].storid"
   ]
  },
  {
   "cell_type": "code",
   "execution_count": null,
   "id": "4f4f1b08-4b70-487a-aaaf-eab5f65ebd9a",
   "metadata": {},
   "outputs": [],
   "source": [
    "merged_ontology._unabbreviate(15660)"
   ]
  },
  {
   "cell_type": "code",
   "execution_count": null,
   "id": "3a528bcf-de50-49a2-bcc8-5f0dd2f3732f",
   "metadata": {},
   "outputs": [],
   "source": [
    "default_world._get_by_storid(15673).name"
   ]
  },
  {
   "cell_type": "code",
   "execution_count": null,
   "id": "b0a20b20-70d1-4d05-a1dd-38747e6a9abf",
   "metadata": {},
   "outputs": [],
   "source": [
    "j=0\n",
    "# while j<10:\n",
    "for i in merged_ontology.graph._get_data_spo_spo(None,None,None):\n",
    "    print(i)\n",
    "    j+=1\n",
    "    if j ==100:\n",
    "        break"
   ]
  },
  {
   "cell_type": "code",
   "execution_count": null,
   "id": "841a880f-5601-4f9f-9bc8-64ce0d82fd9e",
   "metadata": {},
   "outputs": [],
   "source": [
    "merged_ontology._unabbreviate(349)"
   ]
  },
  {
   "cell_type": "markdown",
   "id": "038f1b15-0cf4-4302-a3e4-08e2ff28eb8c",
   "metadata": {},
   "source": [
    "1. Get the triples from ORDO\n",
    "2. Unabbriviate and add them to the merge ontology\n",
    "> If the last element is None its a obj and else its a data triple\n",
    "3. Now for all the classes from ORDO get the triple from the DOID \n",
    "4. Unabbrivate the triple \n",
    "5. Check if the DOID id is present in the ORDO, then add that triple with its DOID ID changed to ORPHA ID"
   ]
  },
  {
   "cell_type": "code",
   "execution_count": null,
   "id": "4497708b-1421-4bbc-b059-89fd8f1f27d0",
   "metadata": {},
   "outputs": [],
   "source": []
  }
 ],
 "metadata": {
  "kernelspec": {
   "display_name": "Python 3 (ipykernel)",
   "language": "python",
   "name": "python3"
  },
  "language_info": {
   "codemirror_mode": {
    "name": "ipython",
    "version": 3
   },
   "file_extension": ".py",
   "mimetype": "text/x-python",
   "name": "python",
   "nbconvert_exporter": "python",
   "pygments_lexer": "ipython3",
   "version": "3.9.13"
  }
 },
 "nbformat": 4,
 "nbformat_minor": 5
}
